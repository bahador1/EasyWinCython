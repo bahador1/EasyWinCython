{
 "cells": [
  {
   "cell_type": "code",
   "execution_count": null,
   "id": "3bb27852",
   "metadata": {},
   "outputs": [],
   "source": [
    "# from multi_threading import threads"
   ]
  },
  {
   "cell_type": "code",
   "execution_count": 1,
   "id": "f739f9c5",
   "metadata": {},
   "outputs": [
    {
     "name": "stdout",
     "output_type": "stream",
     "text": [
      "0.29.23\n"
     ]
    }
   ],
   "source": [
    "# from __future__ import print_function\n",
    "%load_ext cython\n",
    "import Cython\n",
    "print(Cython.__version__)"
   ]
  },
  {
   "cell_type": "markdown",
   "id": "d6cca45f",
   "metadata": {},
   "source": [
    "### Data Synthesis\n",
    "- 10million incomes:[5k,500k]\n",
    "- calculate the total tax"
   ]
  },
  {
   "cell_type": "code",
   "execution_count": 2,
   "id": "d2cf4107",
   "metadata": {},
   "outputs": [],
   "source": [
    "import random\n",
    "import numpy as np\n",
    "array1 = np.random.randint(5000, 500000, size=(10000000)).astype(np.float64)"
   ]
  },
  {
   "cell_type": "code",
   "execution_count": 3,
   "id": "9c05d8bf",
   "metadata": {},
   "outputs": [],
   "source": [
    "# from tax import tottax_python\n",
    "def tax_python(amount):\n",
    "    if amount <= 18200:\n",
    "        return 0\n",
    "    elif amount <= 37000:\n",
    "        return 0.19 * (amount - 18200)\n",
    "    elif amount <= 80000:\n",
    "        return 3572 + 0.325 * (amount - 37000)\n",
    "    elif amount <= 180000:\n",
    "        return 17547 + 0.37 * (amount - 80000)\n",
    "    else:\n",
    "        return 54547 + 0.45 * (amount - 180000)\n",
    "\n",
    "def tottax_python(incomes):\n",
    "    tot = 0  \n",
    "    n = incomes.shape[0]\n",
    "    for i in range(n):\n",
    "        tot += tax_python(incomes[i])\n",
    "    return tot"
   ]
  },
  {
   "cell_type": "code",
   "execution_count": 4,
   "id": "0ec0549c",
   "metadata": {},
   "outputs": [
    {
     "name": "stdout",
     "output_type": "stream",
     "text": [
      "8.12 s ± 106 ms per loop (mean ± std. dev. of 7 runs, 1 loop each)\n"
     ]
    }
   ],
   "source": [
    "py_result = tottax_python(array1)\n",
    "timeit_result = %timeit -o tottax_python(array1)\n",
    "py_time_avg = timeit_result.average"
   ]
  },
  {
   "cell_type": "markdown",
   "id": "9e85c68c",
   "metadata": {},
   "source": [
    "### Time our code \n",
    "#### credit for  [Cython for NumPy users](\"https://github.com/cython/cython/blob/master/docs/examples/userguide/numpy_tutorial/numpy_and_cython.ipynb\")"
   ]
  },
  {
   "cell_type": "code",
   "execution_count": 5,
   "id": "b048d2ef",
   "metadata": {},
   "outputs": [],
   "source": [
    "def compare_time(current, reference, name):\n",
    "    ratio = reference/current\n",
    "    if ratio > 1:\n",
    "        word = \"faster\"\n",
    "    else:\n",
    "        ratio = 1 / ratio \n",
    "        word = \"slower\"\n",
    "        \n",
    "    print(\"We are\", \"{0:.1f}\".format(ratio), \"times\", word, \"than the\", name, \"version.\")\n",
    "\n",
    "def print_report(compute_function):\n",
    "    if np.all(compute_function(array1) == py_result):\n",
    "        print(\"exactly same result!\")\n",
    "    else:\n",
    "        print(\"not same answer!, the difference between them is {0:.5f}\".format(compute_function(array1) - py_result))\n",
    "    timeit_result = %timeit -o compute_function(array1)\n",
    "    run_time = timeit_result.average\n",
    "    compare_time(run_time, py_time_avg, \"pure Python\")"
   ]
  },
  {
   "cell_type": "code",
   "execution_count": 6,
   "id": "78c6b4b6",
   "metadata": {},
   "outputs": [],
   "source": [
    "%%cython \n",
    "# from tax_c import tottax_python\n",
    "cdef double tax_cython(double amount):\n",
    "    if amount <= 18200:\n",
    "        return 0\n",
    "    elif amount <= 37000:\n",
    "        return 0.19 * (amount - 18200)\n",
    "    elif amount <= 80000:\n",
    "        return 3572 + 0.325 * (amount - 37000)\n",
    "    elif amount <= 180000:\n",
    "        return 17547 + 0.37 * (amount - 80000)\n",
    "    else:\n",
    "        return 54547 + 0.45 * (amount - 180000)\n",
    "\n",
    "def tottax_python(incomes):\n",
    "    tot = 0    \n",
    "    n = incomes.shape[0]\n",
    "    for i in range(n):\n",
    "        tot += tax_cython(incomes[i])\n",
    "    return tot"
   ]
  },
  {
   "cell_type": "code",
   "execution_count": 7,
   "id": "03e6296c",
   "metadata": {},
   "outputs": [
    {
     "name": "stdout",
     "output_type": "stream",
     "text": [
      "exactly same result!\n",
      "812 ms ± 10.7 ms per loop (mean ± std. dev. of 7 runs, 1 loop each)\n",
      "We are 10.0 times faster than the pure Python version.\n"
     ]
    }
   ],
   "source": [
    "print_report(tottax_python)"
   ]
  },
  {
   "cell_type": "code",
   "execution_count": 8,
   "id": "5baee55e",
   "metadata": {
    "scrolled": false
   },
   "outputs": [
    {
     "name": "stdout",
     "output_type": "stream",
     "text": [
      "exactly same result!\n",
      "833 ms ± 16.2 ms per loop (mean ± std. dev. of 7 runs, 1 loop each)\n",
      "We are 9.7 times faster than the pure Python version.\n"
     ]
    }
   ],
   "source": [
    "#for secondtime\n",
    "print_report(tottax_python)"
   ]
  },
  {
   "cell_type": "code",
   "execution_count": 18,
   "id": "1fa4d785",
   "metadata": {},
   "outputs": [
    {
     "name": "stdout",
     "output_type": "stream",
     "text": [
      "809 ms ± 4.07 ms per loop (mean ± std. dev. of 7 runs, 1 loop each)\n",
      "We are 10.2 times faster than the pure Python version.\n"
     ]
    }
   ],
   "source": [
    "from tax_c import tottax_python\n",
    "print_report(tottax_python)"
   ]
  },
  {
   "cell_type": "code",
   "execution_count": null,
   "id": "677c43cf",
   "metadata": {},
   "outputs": [],
   "source": [
    "#both logic and loop are written in cython"
   ]
  },
  {
   "cell_type": "code",
   "execution_count": 40,
   "id": "00de6ffa",
   "metadata": {},
   "outputs": [
    {
     "name": "stdout",
     "output_type": "stream",
     "text": [
      "exactly same!\n",
      "43.6 ms ± 972 µs per loop (mean ± std. dev. of 7 runs, 10 loops each)\n",
      "We are 188.5 times faster than the pure Python version.\n"
     ]
    }
   ],
   "source": [
    "print_report(tottax_cython)"
   ]
  },
  {
   "cell_type": "code",
   "execution_count": null,
   "id": "62b4b154",
   "metadata": {},
   "outputs": [],
   "source": [
    "# %load tax_c_c.pyx\n",
    "\n",
    "cpdef double tax_cython(double amount ):#\n",
    "    if amount <= 18200:\n",
    "        return 0\n",
    "    elif amount <= 37000:\n",
    "        return 0.19 * (amount - 18200)\n",
    "    elif amount <= 80000:\n",
    "        return 3572 + 0.325 * (amount - 37000)\n",
    "    elif amount <= 180000:\n",
    "        return 17547 + 0.37 * (amount - 80000)\n",
    "    else:\n",
    "        return 54547 + 0.45 * (amount - 180000)\n",
    "\n",
    "cpdef double tottax_cython(double[:] incomes):\n",
    "    cdef int i\n",
    "    cdef int n = incomes.shape[0]\n",
    "    cdef double tot = 0\n",
    "    for i in range(n):\n",
    "        tot += tax_cython(incomes[i])\n",
    "    return tot\n"
   ]
  },
  {
   "cell_type": "code",
   "execution_count": 27,
   "id": "b90f2420",
   "metadata": {
    "scrolled": true
   },
   "outputs": [
    {
     "name": "stdout",
     "output_type": "stream",
     "text": [
      "exactly same result!\n",
      "43.1 ms ± 672 µs per loop (mean ± std. dev. of 7 runs, 10 loops each)\n",
      "We are 188.3 times faster than the pure Python version.\n"
     ]
    }
   ],
   "source": [
    "##both logic and loop are written in cython and gil is released!\n",
    "from tax_c_c import tottax_cython\n",
    "print_report(tottax_cython)"
   ]
  },
  {
   "cell_type": "code",
   "execution_count": null,
   "id": "f73c1903",
   "metadata": {},
   "outputs": [],
   "source": [
    "# %load tax_c_nogil.pyx\n",
    "\n",
    "cpdef double tax_cython(double amount ) nogil:#\n",
    "    if amount <= 18200:\n",
    "        return 0\n",
    "    elif amount <= 37000:\n",
    "        return 0.19 * (amount - 18200)\n",
    "    elif amount <= 80000:\n",
    "        return 3572 + 0.325 * (amount - 37000)\n",
    "    elif amount <= 180000:\n",
    "        return 17547 + 0.37 * (amount - 80000)\n",
    "    else:\n",
    "        return 54547 + 0.45 * (amount - 180000)\n",
    "\n",
    "cpdef double tottax_cython(double[:] incomes):\n",
    "    cdef int i\n",
    "    cdef int n = incomes.shape[0]\n",
    "    cdef double tot = 0\n",
    "    with nogil:\n",
    "        for i in range(n):\n",
    "            tot += tax_cython(incomes[i])\n",
    "        return tot\n"
   ]
  },
  {
   "cell_type": "code",
   "execution_count": 33,
   "id": "a7b4305e",
   "metadata": {
    "scrolled": true
   },
   "outputs": [
    {
     "name": "stdout",
     "output_type": "stream",
     "text": [
      "exactly same result!\n",
      "45.9 ms ± 879 µs per loop (mean ± std. dev. of 7 runs, 10 loops each)\n",
      "We are 176.9 times faster than the pure Python version.\n"
     ]
    }
   ],
   "source": [
    "##both logic and loop are written in cython and gil is released!\n",
    "\n",
    "from tax_c_nogil import tottax_cython\n",
    "print_report(tottax_cython)"
   ]
  },
  {
   "cell_type": "markdown",
   "id": "65e97412",
   "metadata": {},
   "source": [
    "### multithreading"
   ]
  },
  {
   "cell_type": "code",
   "execution_count": 34,
   "id": "6a6283da",
   "metadata": {},
   "outputs": [],
   "source": [
    "from concurrent.futures import ThreadPoolExecutor\n",
    "# from tax_c_nogil import tottax_cython"
   ]
  },
  {
   "cell_type": "code",
   "execution_count": 35,
   "id": "f0500986",
   "metadata": {},
   "outputs": [],
   "source": [
    "def threads(incomes):\n",
    "    with ThreadPoolExecutor(max_workers = 10) as exe:\n",
    "        sections = np.array_split(incomes, 10)\n",
    "        jobs = [exe.submit(tottax_cython , s) for s in sections]\n",
    "    \n",
    "    return sum(job.result() for job in jobs)"
   ]
  },
  {
   "cell_type": "code",
   "execution_count": 36,
   "id": "fff9d1ff",
   "metadata": {},
   "outputs": [
    {
     "data": {
      "text/plain": [
       "900765351089.0531"
      ]
     },
     "execution_count": 36,
     "metadata": {},
     "output_type": "execute_result"
    }
   ],
   "source": [
    "threads(array1)"
   ]
  },
  {
   "cell_type": "code",
   "execution_count": null,
   "id": "551d078c",
   "metadata": {},
   "outputs": [],
   "source": [
    "py_result"
   ]
  },
  {
   "cell_type": "code",
   "execution_count": 37,
   "id": "b80f493d",
   "metadata": {
    "scrolled": true
   },
   "outputs": [
    {
     "name": "stdout",
     "output_type": "stream",
     "text": [
      "not same answer!, the difference between them is -0.03491\n",
      "7.84 ms ± 132 µs per loop (mean ± std. dev. of 7 runs, 100 loops each)\n",
      "We are 1035.4 times faster than the pure Python version.\n"
     ]
    }
   ],
   "source": [
    "print_report(threads)"
   ]
  },
  {
   "cell_type": "markdown",
   "id": "15571208",
   "metadata": {},
   "source": [
    "inspired by [Easy wins with Cython: fast and multi-core by Caleb Hattingh](\"https://www.youtube.com/watch?v=NfnMJMkhDoQ&ab_channel=PyConAU\") video and the [Cython for NumPy users](\"https://github.com/cython/cython/blob/master/docs/examples/userguide/numpy_tutorial/numpy_and_cython.ipynb\")notebook. contains both files and mere ipython-style implementation "
   ]
  },
  {
   "cell_type": "code",
   "execution_count": null,
   "id": "ce7e9453",
   "metadata": {},
   "outputs": [],
   "source": [
    "#multi threading good for i/o bounded tasks (i.e. network, IO, or user interaction.)\n",
    "#multi processing good for cpu bounded tasks"
   ]
  }
 ],
 "metadata": {
  "kernelspec": {
   "display_name": "Easywin",
   "language": "python",
   "name": "easywin"
  },
  "language_info": {
   "codemirror_mode": {
    "name": "ipython",
    "version": 3
   },
   "file_extension": ".py",
   "mimetype": "text/x-python",
   "name": "python",
   "nbconvert_exporter": "python",
   "pygments_lexer": "ipython3",
   "version": "3.9.1"
  }
 },
 "nbformat": 4,
 "nbformat_minor": 5
}
